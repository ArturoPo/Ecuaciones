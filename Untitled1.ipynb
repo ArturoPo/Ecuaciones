{
 "cells": [
  {
   "cell_type": "code",
   "execution_count": 1,
   "metadata": {},
   "outputs": [
    {
     "name": "stdout",
     "output_type": "stream",
     "text": [
      "Collecting pykalman\n",
      "  Downloading pykalman-0.9.5.tar.gz (228kB)\n",
      "Building wheels for collected packages: pykalman\n",
      "  Running setup.py bdist_wheel for pykalman: started\n",
      "  Running setup.py bdist_wheel for pykalman: finished with status 'done'\n",
      "  Stored in directory: C:\\Users\\artur\\AppData\\Local\\pip\\Cache\\wheels\\d6\\2b\\57\\aa2d27dc6e9ccc0830a0b9fd62fe2e740ba15feebdb2e5e69e\n",
      "Successfully built pykalman\n",
      "Installing collected packages: pykalman\n",
      "Successfully installed pykalman-0.9.5\n"
     ]
    }
   ],
   "source": [
    "!pip install pykalman"
   ]
  },
  {
   "cell_type": "code",
   "execution_count": 3,
   "metadata": {},
   "outputs": [],
   "source": [
    "%matplotlib inline\n",
    "from pykalman import KalmanFilter\n",
    "import numpy as np\n",
    "import pandas as pd\n",
    "import matplotlib.pyplot as plt\n",
    "from scipy.integrate import odeint"
   ]
  },
  {
   "cell_type": "code",
   "execution_count": null,
   "metadata": {
    "collapsed": true
   },
   "outputs": [],
   "source": [
    "tau = .1\n",
    "kf = KalmanFilter(n_dim_obs=1, n_dim_state=2\n",
    "                 initial_state_mean = [30,10],\n",
    "                 initial_state_covariance = np.eye(2),\n",
    "                 transition_matrices=[[1,tau],[0,1]],\n",
    "                 observation_matrices=[[1,0]],\n",
    "                 observation_covariance=3,\n",
    "                 transition_covariance=np.zero((2,2)),\n",
    "                 transition_offsets=[-4.9*tau])"
   ]
  }
 ],
 "metadata": {
  "kernelspec": {
   "display_name": "Python 3",
   "language": "python",
   "name": "python3"
  },
  "language_info": {
   "codemirror_mode": {
    "name": "ipython",
    "version": 3
   },
   "file_extension": ".py",
   "mimetype": "text/x-python",
   "name": "python",
   "nbconvert_exporter": "python",
   "pygments_lexer": "ipython3",
   "version": "3.6.1"
  }
 },
 "nbformat": 4,
 "nbformat_minor": 2
}
