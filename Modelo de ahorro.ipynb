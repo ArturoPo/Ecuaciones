{
 "cells": [
  {
   "cell_type": "code",
   "execution_count": 1,
   "metadata": {},
   "outputs": [
    {
     "name": "stdout",
     "output_type": "stream",
     "text": [
      "El número de periodos que se debe dejar invertido el dinero es 13. Al final del periodo 13, el capital es 11040.0.\n"
     ]
    }
   ],
   "source": [
    "# Librería para cálculo numérico\n",
    "import numpy as np\n",
    "\n",
    "# Valores dados en el enunciado\n",
    "C_0, meta, i = 10000, 11000, 0.008\n",
    "# Despejamos k tal que C_k=meta\n",
    "k = np.ceil((meta/C_0 - 1)/i)   # Notar el uso de la función ceil (no se puede tener un número no entero de periodos)\n",
    "k = k.astype(int)               # Conversión a entero (para visualización)\n",
    "C_k = C_0*(1+k*i)               # Cálculo del capital al final del periodo k\n",
    "C_k = round(C_k, 2)             # Redondeo con dos cifras decimales\n",
    "\n",
    "# Imprimimos respuesta en pantalla\n",
    "print(\"El número de periodos que se debe dejar invertido el dinero es \", k,\". Al final del periodo \", k,\n",
    "      \", el capital es \", C_k, \".\", sep=\"\")"
   ]
  },
  {
   "cell_type": "code",
   "execution_count": 2,
   "metadata": {},
   "outputs": [
    {
     "data": {
      "application/vnd.jupyter.widget-view+json": {
       "model_id": "9f9d36835eba4d599c730adb81ede804"
      }
     },
     "metadata": {},
     "output_type": "display_data"
    }
   ],
   "source": [
    "# Librerías para gráficos\n",
    "import matplotlib.pyplot as plt\n",
    "# Para que se muestren las gráficas en la misma ventana\n",
    "%matplotlib inline\n",
    "# Librería para widgets de jupyter\n",
    "from ipywidgets import *\n",
    "\n",
    "def interes_simple(C_0, meta, i):\n",
    "    # Despejamos k\n",
    "    k = np.ceil((meta/C_0 - 1)/i)           # Notar el uso de la función ceil\n",
    "    k = k.astype(int)                       # Conversión a entero\n",
    "    C_k = C_0*(1+k*i)                       # Cálculo del capital al final del periodo k\n",
    "    C_k = round(C_k, 2)                     # Redondeo con dos cifras decimales\n",
    "    # Vector de periodos\n",
    "    kk = np.linspace(0,k,k+1)               \n",
    "    # Vector de capitales por periodo\n",
    "    CC = C_0*(1+kk*i)\n",
    "    # Gráfico\n",
    "    plt.figure(num=1); plt.clf()            # Figura 1, borrar lo que contenga\n",
    "    plt.plot(kk, CC,'*',linewidth=3.0)      # Se grafica la evolución de los capitales\n",
    "    plt.plot(kk,meta*np.ones(k+1),'--k')    # Se grafica la meta\n",
    "    plt.xlabel('k')                         # Etiqueta eje x\n",
    "    plt.ylabel('C_k')                       # Etiqueta eje y\n",
    "    plt.grid(True)                          # Malla en la gráfica\n",
    "    plt.show()                              # Mostrar la figura\n",
    "    print(\"El número de periodos que se debe dejar invertido el dinero para llegar a la meta de \", meta,\" es \", k,\n",
    "          \". Al final del periodo \", k,\", el capital es \", C_k, \".\", sep=\"\")\n",
    "    \n",
    "interact_manual(interes_simple, C_0=fixed(10000), meta=(10000,12000,100), i=fixed(0.008));"
   ]
  },
  {
   "cell_type": "code",
   "execution_count": 3,
   "metadata": {
    "collapsed": true
   },
   "outputs": [],
   "source": [
    "# Librería de cálculo simbólico\n",
    "import sympy as sym\n",
    "\n",
    "# Para imprimir en formato TeX\n",
    "from sympy import init_printing; init_printing(use_latex='mathjax')\n",
    "from IPython.display import display\n",
    "\n",
    "# Símbolos t(para el tiempo) y r(para el interés instantáneo)\n",
    "#t, r = sym.symbols('t r')\n",
    "# Otra forma de hacer lo anterior\n",
    "sym.var('t r')\n",
    "\n",
    "C = sym.Function('C')"
   ]
  },
  {
   "cell_type": "code",
   "execution_count": 4,
   "metadata": {},
   "outputs": [
    {
     "data": {
      "text/latex": [
       "$$- r C{\\left (t \\right )} + \\frac{d}{d t} C{\\left (t \\right )} = 0$$"
      ],
      "text/plain": [
       "          d           \n",
       "-r⋅C(t) + ──(C(t)) = 0\n",
       "          dt          "
      ]
     },
     "metadata": {},
     "output_type": "display_data"
    },
    {
     "data": {
      "text/latex": [
       "$$C{\\left (t \\right )} = C_{1} e^{r t}$$"
      ],
      "text/plain": [
       "           r⋅t\n",
       "C(t) = C₁⋅ℯ   "
      ]
     },
     "execution_count": 4,
     "metadata": {},
     "output_type": "execute_result"
    }
   ],
   "source": [
    "eqn = sym.Eq(sym.Derivative(C(t),t) - r*C(t), 0) # Ecuación diferencial\n",
    "display(eqn) # Mostrar ecuación\n",
    "sym.dsolve(eqn, C(t)) # Resolver"
   ]
  },
  {
   "cell_type": "code",
   "execution_count": null,
   "metadata": {
    "collapsed": true
   },
   "outputs": [],
   "source": []
  }
 ],
 "metadata": {
  "kernelspec": {
   "display_name": "Python 3",
   "language": "python",
   "name": "python3"
  },
  "language_info": {
   "codemirror_mode": {
    "name": "ipython",
    "version": 3
   },
   "file_extension": ".py",
   "mimetype": "text/x-python",
   "name": "python",
   "nbconvert_exporter": "python",
   "pygments_lexer": "ipython3",
   "version": "3.6.1"
  }
 },
 "nbformat": 4,
 "nbformat_minor": 2
}
