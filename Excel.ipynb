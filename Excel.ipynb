{
 "cells": [
  {
   "cell_type": "code",
   "execution_count": 1,
   "metadata": {},
   "outputs": [
    {
     "name": "stdout",
     "output_type": "stream",
     "text": [
      "Collecting xlwings\n",
      "  Downloading xlwings-0.11.4.tar.gz (1.9MB)\n",
      "Collecting comtypes (from xlwings)\n",
      "  Downloading comtypes-1.1.3-2.zip (179kB)\n",
      "Building wheels for collected packages: xlwings, comtypes\n",
      "  Running setup.py bdist_wheel for xlwings: started\n",
      "  Running setup.py bdist_wheel for xlwings: finished with status 'done'\n",
      "  Stored in directory: C:\\Users\\artur\\AppData\\Local\\pip\\Cache\\wheels\\66\\9e\\c4\\0041a18c1ec27f53bc2e3817929fcde6f0a47a8f518078a6db\n",
      "  Running setup.py bdist_wheel for comtypes: started\n",
      "  Running setup.py bdist_wheel for comtypes: finished with status 'done'\n",
      "  Stored in directory: C:\\Users\\artur\\AppData\\Local\\pip\\Cache\\wheels\\16\\4a\\80\\7e3d966317021cdf84659f0661887daf4266d33062378c1fc1\n",
      "Successfully built xlwings comtypes\n",
      "Installing collected packages: comtypes, xlwings\n",
      "  Found existing installation: comtypes 1.1.2\n",
      "    Uninstalling comtypes-1.1.2:\n",
      "      Successfully uninstalled comtypes-1.1.2\n",
      "  Found existing installation: xlwings 0.10.4\n",
      "    Uninstalling xlwings-0.10.4:\n",
      "      Successfully uninstalled xlwings-0.10.4\n",
      "Successfully installed comtypes-1.1.3 xlwings-0.11.4\n"
     ]
    },
    {
     "name": "stderr",
     "output_type": "stream",
     "text": [
      "    DEPRECATION: Uninstalling a distutils installed project (xlwings) has been deprecated and will be removed in a future version. This is due to the fact that uninstalling a distutils project will only partially uninstall the project.\n"
     ]
    }
   ],
   "source": [
    "!pip install --upgrade xlwings"
   ]
  },
  {
   "cell_type": "code",
   "execution_count": 2,
   "metadata": {
    "collapsed": true
   },
   "outputs": [],
   "source": [
    "import xlwings as xw"
   ]
  },
  {
   "cell_type": "code",
   "execution_count": 4,
   "metadata": {},
   "outputs": [],
   "source": [
    "xw.Range(\"A1\").value = \"Hola Mundo\""
   ]
  },
  {
   "cell_type": "code",
   "execution_count": 7,
   "metadata": {},
   "outputs": [
    {
     "data": {
      "text/plain": [
       "'Hola Mundo'"
      ]
     },
     "execution_count": 7,
     "metadata": {},
     "output_type": "execute_result"
    }
   ],
   "source": [
    "xw.Range(\"A1\").value"
   ]
  },
  {
   "cell_type": "code",
   "execution_count": 8,
   "metadata": {
    "collapsed": true
   },
   "outputs": [],
   "source": [
    "xw.Range(\"B1\").value = 100"
   ]
  },
  {
   "cell_type": "code",
   "execution_count": 9,
   "metadata": {
    "collapsed": true
   },
   "outputs": [],
   "source": [
    "xw.Range(\"A2\").value = [[\"Dato1\",\"Dato2,\",\"Dato3\"],[10,20,30]]"
   ]
  },
  {
   "cell_type": "code",
   "execution_count": 10,
   "metadata": {},
   "outputs": [
    {
     "data": {
      "text/plain": [
       "[['Hola Mundo', 100.0, None],\n",
       " ['Dato1', 'Dato2,', 'Dato3'],\n",
       " [10.0, 20.0, 30.0],\n",
       " [None, None, None]]"
      ]
     },
     "execution_count": 10,
     "metadata": {},
     "output_type": "execute_result"
    }
   ],
   "source": [
    "xw.Range(\"A1:C4\").value"
   ]
  },
  {
   "cell_type": "code",
   "execution_count": 11,
   "metadata": {},
   "outputs": [
    {
     "data": {
      "text/plain": [
       "datetime.datetime(2018, 1, 1, 0, 0)"
      ]
     },
     "execution_count": 11,
     "metadata": {},
     "output_type": "execute_result"
    }
   ],
   "source": [
    "import datetime as dt\n",
    "\n",
    "xw.Range(\"A5\").value = dt.datetime(2018,1,1)\n",
    "xw.Range(\"A5\").value"
   ]
  },
  {
   "cell_type": "code",
   "execution_count": 13,
   "metadata": {},
   "outputs": [
    {
     "name": "stdout",
     "output_type": "stream",
     "text": [
      "['hoy-->', datetime.datetime(2017, 10, 19, 0, 0), None]\n"
     ]
    }
   ],
   "source": [
    "hoy = dt.date.today()\n",
    "un_dia = dt.timedelta(days=1)\n",
    "ayer = hoy - un_dia\n",
    "mañana = hoy + un_dia\n",
    "\n",
    "xw.Range(\"A8\").value = \"hoy-->\"\n",
    "xw.Range(\"B8\").value = hoy\n",
    "print (xw.Range(\"A8:C8\").value)\n",
    "\n",
    "xw.Range(\"A9:B9\").value = [\"ayer-->\",ayer]\n",
    "\n",
    "xw.Range(\"A10\").value = [\"mañana-->\",mañana]"
   ]
  },
  {
   "cell_type": "code",
   "execution_count": 22,
   "metadata": {},
   "outputs": [
    {
     "name": "stdout",
     "output_type": "stream",
     "text": [
      "['mañana-->', datetime.datetime(2017, 10, 20, 0, 0), None]\n"
     ]
    }
   ],
   "source": [
    "print (xw.Range(\"A10:C10\").value)"
   ]
  },
  {
   "cell_type": "code",
   "execution_count": 23,
   "metadata": {
    "collapsed": true
   },
   "outputs": [],
   "source": [
    "xw.Range(\"A16\").value = [[1],[2],[3],[4],[5]]"
   ]
  },
  {
   "cell_type": "code",
   "execution_count": 24,
   "metadata": {
    "collapsed": true
   },
   "outputs": [],
   "source": [
    "xw.Range(\"B16\").value = [10,20,30,40,50]"
   ]
  },
  {
   "cell_type": "code",
   "execution_count": 33,
   "metadata": {},
   "outputs": [
    {
     "name": "stdout",
     "output_type": "stream",
     "text": [
      "100.0 <class 'float'>\n",
      "['Hola Mundo'] <class 'type'> ['Hola Mundo']\n"
     ]
    }
   ],
   "source": [
    "val = xw.Range(\"B1\").value\n",
    "print (val,type(val))\n",
    "\n",
    "val = xw.Range(\"A1\").options(ndim=1).value\n",
    "print (val,type,(val))"
   ]
  },
  {
   "cell_type": "code",
   "execution_count": 34,
   "metadata": {},
   "outputs": [
    {
     "data": {
      "text/plain": [
       "[[1.0], [2.0], [3.0], [4.0], [5.0]]"
      ]
     },
     "execution_count": 34,
     "metadata": {},
     "output_type": "execute_result"
    }
   ],
   "source": [
    "xw.Range(\"A16:A20\").options(ndim=2).value"
   ]
  },
  {
   "cell_type": "code",
   "execution_count": 36,
   "metadata": {},
   "outputs": [
    {
     "data": {
      "text/plain": [
       "[[1.0, 10.0, 20.0, 30.0, 40.0, 50.0],\n",
       " [2.0, None, None, None, None, None],\n",
       " [3.0, None, None, None, None, None],\n",
       " [4.0, None, None, None, None, None],\n",
       " [5.0, None, None, None, None, None]]"
      ]
     },
     "execution_count": 36,
     "metadata": {},
     "output_type": "execute_result"
    }
   ],
   "source": [
    "tabla1 =xw.Range(\"A16\").expand(\"table\")\n",
    "tabla1.value"
   ]
  },
  {
   "cell_type": "code",
   "execution_count": 38,
   "metadata": {},
   "outputs": [
    {
     "data": {
      "text/plain": [
       "[[1.0, 10.0, 20.0, 30.0, 40.0, 50.0],\n",
       " [2.0, None, None, None, None, None],\n",
       " [3.0, None, None, None, None, None],\n",
       " [4.0, None, None, None, None, None],\n",
       " [5.0, None, None, None, None, None]]"
      ]
     },
     "execution_count": 38,
     "metadata": {},
     "output_type": "execute_result"
    }
   ],
   "source": [
    "tabla2 =xw.Range(\"A16\").options(expand=\"table\")\n",
    "tabla2.value"
   ]
  },
  {
   "cell_type": "code",
   "execution_count": 39,
   "metadata": {
    "collapsed": true
   },
   "outputs": [],
   "source": [
    "xw.Range(\"A22\").value = list(range(0,7))"
   ]
  },
  {
   "cell_type": "code",
   "execution_count": 40,
   "metadata": {
    "collapsed": true
   },
   "outputs": [],
   "source": [
    "import numpy as np\n",
    "xw.Range(\"A25\").value = np.eye(3)"
   ]
  },
  {
   "cell_type": "code",
   "execution_count": 42,
   "metadata": {},
   "outputs": [
    {
     "data": {
      "text/plain": [
       "array([[ 1.,  0.,  0.],\n",
       "       [ 0.,  1.,  0.],\n",
       "       [ 0.,  0.,  1.]])"
      ]
     },
     "execution_count": 42,
     "metadata": {},
     "output_type": "execute_result"
    }
   ],
   "source": [
    "xw.Range(\"A25\").options(np.array,expand = \"table\").value"
   ]
  },
  {
   "cell_type": "code",
   "execution_count": 43,
   "metadata": {
    "collapsed": true
   },
   "outputs": [],
   "source": [
    "f = lambda x: x**2\n",
    "x = np.arange(0,10,1)\n",
    "\n",
    "xw.Range(\"A30\").value = x\n",
    "xw.Range(\"A31\").value = f(x)"
   ]
  },
  {
   "cell_type": "code",
   "execution_count": 44,
   "metadata": {
    "collapsed": true
   },
   "outputs": [],
   "source": [
    "xw.Range(\"A36\").value = [list(x),list(f(x))]"
   ]
  },
  {
   "cell_type": "code",
   "execution_count": null,
   "metadata": {
    "collapsed": true
   },
   "outputs": [],
   "source": []
  }
 ],
 "metadata": {
  "kernelspec": {
   "display_name": "Python 3",
   "language": "python",
   "name": "python3"
  },
  "language_info": {
   "codemirror_mode": {
    "name": "ipython",
    "version": 3
   },
   "file_extension": ".py",
   "mimetype": "text/x-python",
   "name": "python",
   "nbconvert_exporter": "python",
   "pygments_lexer": "ipython3",
   "version": "3.6.1"
  }
 },
 "nbformat": 4,
 "nbformat_minor": 2
}
