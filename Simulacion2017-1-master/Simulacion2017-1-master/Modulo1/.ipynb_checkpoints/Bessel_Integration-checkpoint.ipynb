{
 "cells": [
  {
   "cell_type": "code",
   "execution_count": 1,
   "metadata": {
    "collapsed": true
   },
   "outputs": [],
   "source": [
    "from sympy import init_printing; init_printing(use_latex='mathjax')\n",
    "import sympy as sym"
   ]
  },
  {
   "cell_type": "code",
   "execution_count": 6,
   "metadata": {
    "collapsed": false
   },
   "outputs": [
    {
     "data": {
      "text/latex": [
       "$$\\left ( r, \\quad \\theta, \\quad k\\right )$$"
      ],
      "text/plain": [
       "(r, θ, k)"
      ]
     },
     "execution_count": 6,
     "metadata": {},
     "output_type": "execute_result"
    }
   ],
   "source": [
    "r, theta, k  = sym.symbols('r theta k')\n",
    "r, theta, k"
   ]
  },
  {
   "cell_type": "code",
   "execution_count": 7,
   "metadata": {
    "collapsed": false
   },
   "outputs": [
    {
     "data": {
      "text/latex": [
       "$$n$$"
      ],
      "text/plain": [
       "n"
      ]
     },
     "execution_count": 7,
     "metadata": {},
     "output_type": "execute_result"
    }
   ],
   "source": [
    "n = sym.Symbol('n', positive = True, integer=True)\n",
    "n"
   ]
  },
  {
   "cell_type": "code",
   "execution_count": 8,
   "metadata": {
    "collapsed": true
   },
   "outputs": [],
   "source": [
    "def lamb(n,k):\n",
    "    return sym.Symbol('lambda_%s%s'%(n,k), positive = True)"
   ]
  },
  {
   "cell_type": "code",
   "execution_count": 10,
   "metadata": {
    "collapsed": false
   },
   "outputs": [
    {
     "data": {
      "text/latex": [
       "$$\\lambda_{0k}$$"
      ],
      "text/plain": [
       "λ₀ₖ"
      ]
     },
     "execution_count": 10,
     "metadata": {},
     "output_type": "execute_result"
    }
   ],
   "source": [
    "lamb(0,k)"
   ]
  },
  {
   "cell_type": "code",
   "execution_count": 11,
   "metadata": {
    "collapsed": false
   },
   "outputs": [
    {
     "data": {
      "text/latex": [
       "$$- r^{2} + 1$$"
      ],
      "text/plain": [
       "   2    \n",
       "- r  + 1"
      ]
     },
     "execution_count": 11,
     "metadata": {},
     "output_type": "execute_result"
    }
   ],
   "source": [
    "f = 1 - r**2; f"
   ]
  },
  {
   "cell_type": "code",
   "execution_count": 13,
   "metadata": {
    "collapsed": false
   },
   "outputs": [
    {
     "data": {
      "text/latex": [
       "$$r \\left(- r^{2} + 1\\right) \\cos{\\left (n \\theta \\right )} J_{n}\\left(\\lambda_{nk} r\\right)$$"
      ],
      "text/plain": [
       "  ⎛   2    ⎞                           \n",
       "r⋅⎝- r  + 1⎠⋅cos(n⋅θ)⋅besselj(n, λₙₖ⋅r)"
      ]
     },
     "execution_count": 13,
     "metadata": {},
     "output_type": "execute_result"
    }
   ],
   "source": [
    "integrand = f * sym.besselj(n, lamb(n,k) * r) * sym.cos(n *theta) * r\n",
    "integrand"
   ]
  },
  {
   "cell_type": "code",
   "execution_count": 14,
   "metadata": {
    "collapsed": false
   },
   "outputs": [
    {
     "data": {
      "text/latex": [
       "$$\\int_{0}^{2 \\pi}\\int_{0}^{1} r \\left(- r^{2} + 1\\right) \\cos{\\left (n \\theta \\right )} J_{n}\\left(\\lambda_{nk} r\\right)\\, dr\\, d\\theta$$"
      ],
      "text/plain": [
       "2⋅π 1                                              \n",
       " ⌠  ⌠                                              \n",
       " ⎮  ⎮   ⎛   2    ⎞                                 \n",
       " ⎮  ⎮ r⋅⎝- r  + 1⎠⋅cos(n⋅θ)⋅besselj(n, λₙₖ⋅r) dr dθ\n",
       " ⌡  ⌡                                              \n",
       " 0  0                                              "
      ]
     },
     "execution_count": 14,
     "metadata": {},
     "output_type": "execute_result"
    }
   ],
   "source": [
    "ank = sym.Integral(integrand, (r, 0, 1), (theta, 0, 2*sym.pi))\n",
    "ank"
   ]
  },
  {
   "cell_type": "code",
   "execution_count": 15,
   "metadata": {
    "collapsed": false
   },
   "outputs": [
    {
     "data": {
      "text/latex": [
       "$$0$$"
      ],
      "text/plain": [
       "0"
      ]
     },
     "execution_count": 15,
     "metadata": {},
     "output_type": "execute_result"
    }
   ],
   "source": [
    "solution = ank.doit()\n",
    "solution"
   ]
  },
  {
   "cell_type": "code",
   "execution_count": 16,
   "metadata": {
    "collapsed": true
   },
   "outputs": [],
   "source": [
    "integ = lambda n: f * sym.besselj(n, lamb(n,k) * r) * sym.cos(n*theta) * r"
   ]
  },
  {
   "cell_type": "code",
   "execution_count": 17,
   "metadata": {
    "collapsed": false
   },
   "outputs": [
    {
     "data": {
      "text/latex": [
       "$$r \\left(- r^{2} + 1\\right) J_{0}\\left(\\lambda_{0k} r\\right)$$"
      ],
      "text/plain": [
       "  ⎛   2    ⎞                  \n",
       "r⋅⎝- r  + 1⎠⋅besselj(0, λ₀ₖ⋅r)"
      ]
     },
     "execution_count": 17,
     "metadata": {},
     "output_type": "execute_result"
    }
   ],
   "source": [
    "integ(0)"
   ]
  },
  {
   "cell_type": "code",
   "execution_count": 18,
   "metadata": {
    "collapsed": false
   },
   "outputs": [
    {
     "data": {
      "text/latex": [
       "$$\\int_{0}^{2 \\pi}\\int_{0}^{1} r \\left(- r^{2} + 1\\right) J_{0}\\left(\\lambda_{0k} r\\right)\\, dr\\, d\\theta$$"
      ],
      "text/plain": [
       "2⋅π 1                                     \n",
       " ⌠  ⌠                                     \n",
       " ⎮  ⎮   ⎛   2    ⎞                        \n",
       " ⎮  ⎮ r⋅⎝- r  + 1⎠⋅besselj(0, λ₀ₖ⋅r) dr dθ\n",
       " ⌡  ⌡                                     \n",
       " 0  0                                     "
      ]
     },
     "execution_count": 18,
     "metadata": {},
     "output_type": "execute_result"
    }
   ],
   "source": [
    "a0k = sym.Integral(integ(0), (r, 0, 1), (theta, 0, 2*sym.pi))\n",
    "a0k"
   ]
  },
  {
   "cell_type": "code",
   "execution_count": 19,
   "metadata": {
    "collapsed": false
   },
   "outputs": [
    {
     "data": {
      "text/latex": [
       "$$2 \\pi \\left(- \\frac{2 J_{0}\\left(\\lambda_{0k}\\right)}{\\lambda_{0k}^{2}} + \\frac{4 J_{1}\\left(\\lambda_{0k}\\right)}{\\lambda_{0k}^{3}}\\right)$$"
      ],
      "text/plain": [
       "    ⎛  2⋅besselj(0, λ₀ₖ)   4⋅besselj(1, λ₀ₖ)⎞\n",
       "2⋅π⋅⎜- ───────────────── + ─────────────────⎟\n",
       "    ⎜            2                   3      ⎟\n",
       "    ⎝         λ₀ₖ                 λ₀ₖ       ⎠"
      ]
     },
     "execution_count": 19,
     "metadata": {},
     "output_type": "execute_result"
    }
   ],
   "source": [
    "a0k.doit()"
   ]
  },
  {
   "cell_type": "code",
   "execution_count": null,
   "metadata": {
    "collapsed": true
   },
   "outputs": [],
   "source": []
  }
 ],
 "metadata": {
  "anaconda-cloud": {},
  "kernelspec": {
   "display_name": "Python [Root]",
   "language": "python",
   "name": "Python [Root]"
  },
  "language_info": {
   "codemirror_mode": {
    "name": "ipython",
    "version": 3
   },
   "file_extension": ".py",
   "mimetype": "text/x-python",
   "name": "python",
   "nbconvert_exporter": "python",
   "pygments_lexer": "ipython3",
   "version": "3.5.2"
  }
 },
 "nbformat": 4,
 "nbformat_minor": 0
}
