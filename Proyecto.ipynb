{
 "cells": [
  {
   "cell_type": "code",
   "execution_count": 2,
   "metadata": {
    "collapsed": true
   },
   "outputs": [],
   "source": [
    "%matplotlib inline\n",
    "import matplotlib.pyplot as plt"
   ]
  },
  {
   "cell_type": "code",
   "execution_count": 3,
   "metadata": {},
   "outputs": [
    {
     "name": "stdout",
     "output_type": "stream",
     "text": [
      "costo por una casa\n",
      "cuantos pisos tendrá tu casa :2\n",
      "cuartos en el piso 1 :1\n",
      "Cuantos muros quieres construir en el cuarto 1 :4\n",
      "Altura del cuarto1 :3\n",
      "Longitud del muro 1 para el cuarto1 :6\n",
      "Longitud del muro 2 para el cuarto1 :5\n",
      "Longitud del muro 3 para el cuarto1 :5\n",
      "Longitud del muro 4 para el cuarto1 :6\n",
      "cuartos en el piso 2 :3\n",
      "Cuantos muros quieres construir en el cuarto 1 :4\n",
      "Altura del cuarto1 :3\n",
      "Longitud del muro 1 para el cuarto2 :5\n",
      "Longitud del muro 2 para el cuarto2 :5\n",
      "Longitud del muro 3 para el cuarto2 :5\n",
      "Longitud del muro 4 para el cuarto2 :5\n",
      "Cuantos muros quieres construir en el cuarto 2 :4\n",
      "Altura del cuarto2 :5\n",
      "Longitud del muro 1 para el cuarto2 :5\n",
      "Longitud del muro 2 para el cuarto2 :5\n",
      "Longitud del muro 3 para el cuarto2 :5\n",
      "Longitud del muro 4 para el cuarto2 :5\n",
      "Cuantos muros quieres construir en el cuarto 3 :4\n",
      "Altura del cuarto3 :5\n",
      "Longitud del muro 1 para el cuarto2 :5\n",
      "Longitud del muro 2 para el cuarto2 :5\n",
      "Longitud del muro 3 para el cuarto2 :5\n",
      "Longitud del muro 4 para el cuarto2 :5\n",
      "972957 pesos, sera el costo total por construir tu casa\n"
     ]
    }
   ],
   "source": [
    "print(\"costo por una casa\")\n",
    "pisos=input(\"cuantos pisos tendrá tu casa :\")\n",
    "preciototal = 0\n",
    "preciodefinitivo=0\n",
    "areatotal=0\n",
    "for k in range (int(pisos)):\n",
    "    cuartos=input(\"cuartos en el piso \"+ str(k+1)+\" :\")\n",
    "    for l in range (int(cuartos)):\n",
    "        nummuros = input(\"Cuantos muros quieres construir en el cuarto \"+str(l+1)+\" :\")\n",
    "        altura = input(\"Altura del cuarto\"+str(l+1)+\" :\")\n",
    "       \n",
    "        for i in range (int(nummuros)):\n",
    "            \n",
    "            longitudmuro = int(input(\"Longitud del muro \"+ str(i+1)+\" para el cuarto\" +str(k+1)+\" :\"))\n",
    "            \n",
    "            junta = 2\n",
    "            ladrillo = 3\n",
    "\n",
    "            areatotalmuro = int(longitudmuro) * int(altura)\n",
    "            areatotalladrillo = .12 * .17\n",
    "\n",
    "            numladrillos = round(areatotalmuro / areatotalladrillo)\n",
    "            costoladrillo = numladrillos * ladrillo\n",
    "                  \n",
    "            castillo = 129\n",
    " \n",
    "            if (longitudmuro) > 3:\n",
    "                \n",
    "                castillosextras = (round(longitudmuro / 3))\n",
    "                     \n",
    "            costocastillos = (castillo * 2) + (castillosextras * castillo) \n",
    "           \n",
    "            costalescemento = areatotalmuro * 2\n",
    "            costocemento =  costalescemento * 108\n",
    "            \n",
    "        \n",
    "            preciototaldelmuro = costocastillos + costoladrillo + costocemento\n",
    "            areatotal+=areatotalmuro\n",
    "           \n",
    "\n",
    "            preciototal =preciototal+preciototaldelmuro\n",
    "            preciodefinitivo+=preciototal\n",
    "           \n",
    "print(preciodefinitivo,\"pesos, sera el costo total por construir tu casa\")\n",
    "                     "
   ]
  },
  {
   "cell_type": "code",
   "execution_count": 4,
   "metadata": {},
   "outputs": [
    {
     "data": {
      "image/png": "[encoded data removed]",
      "text/plain": [
       "<matplotlib.figure.Figure at 0x1f9d5e02668>"
      ]
     },
     "metadata": {},
     "output_type": "display_data"
    }
   ],
   "source": [
    "plt.plot(preciodefinitivo,areatotal)\n",
    "plt.xlabel(\"costo($)\",fontsize = 16)\n",
    "plt.ylabel(\"$area total(m2)$\", fontsize = 16)\n",
    "plt.show()"
   ]
  },
  {
   "cell_type": "code",
   "execution_count": null,
   "metadata": {
    "collapsed": true
   },
   "outputs": [],
   "source": []
  }
 ],
 "metadata": {
  "kernelspec": {
   "display_name": "Python 3",
   "language": "python",
   "name": "python3"
  },
  "language_info": {
   "codemirror_mode": {
    "name": "ipython",
    "version": 3
   },
   "file_extension": ".py",
   "mimetype": "text/x-python",
   "name": "python",
   "nbconvert_exporter": "python",
   "pygments_lexer": "ipython3",
   "version": "3.6.1"
  }
 },
 "nbformat": 4,
 "nbformat_minor": 2
}
