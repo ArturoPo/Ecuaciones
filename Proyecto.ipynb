{
 "cells": [
  {
   "cell_type": "code",
   "execution_count": null,
   "metadata": {},
   "outputs": [],
   "source": [
    "nummuros = input(\"Cuantos muros quieres construir: \")\n",
    "\n",
    "preciototal = 0\n",
    "for i in range (int(nummuros)):\n",
    "    longitudmuro = input(\"Longitud del muro: \")\n",
    "    altura = input(\"Altura del muro: \")\n",
    "    junta = 2\n",
    "    ladrillo = 3\n",
    "\n",
    "    areatotalmuro = int(longitudmuro) * int(altura)\n",
    "    areatotalladrillo = .12 * .17\n",
    "\n",
    "    numladrillos = round(areatotalmuro / areatotalladrillo)\n",
    "    costoladrillo = numladrillos * ladrillo\n",
    "    print(costoladrillo)                 \n",
    "    castillo = 129\n",
    " \n",
    "    if int(longitudmuro) > 3:\n",
    "        castillosextras = round(longitudmuro / 3)\n",
    "                     \n",
    "    costocastillos = (castillo * 2) + (castillosextras * castillo) \n",
    "    print(costocastillos)\n",
    "    costalescemento = areatotalmuro * 2\n",
    "    costocemento = costalcemento * 108\n",
    "    print(costocemento)\n",
    "    preciototaldelmuro = costocastillos + costoladrillo + costocemento\n",
    "    print(preciototaldelmuro)\n",
    "    preciototal += preciototaldelmuro\n",
    "\n",
    "print (\"Tu costo total sera de \",preciototal,\" pesos\")\n",
    "                     "
   ]
  },
  {
   "cell_type": "code",
   "execution_count": null,
   "metadata": {
    "collapsed": true
   },
   "outputs": [],
   "source": []
  }
 ],
 "metadata": {
  "kernelspec": {
   "display_name": "Python 3",
   "language": "python",
   "name": "python3"
  },
  "language_info": {
   "codemirror_mode": {
    "name": "ipython",
    "version": 3
   },
   "file_extension": ".py",
   "mimetype": "text/x-python",
   "name": "python",
   "nbconvert_exporter": "python",
   "pygments_lexer": "ipython3",
   "version": "3.6.1"
  }
 },
 "nbformat": 4,
 "nbformat_minor": 2
}
